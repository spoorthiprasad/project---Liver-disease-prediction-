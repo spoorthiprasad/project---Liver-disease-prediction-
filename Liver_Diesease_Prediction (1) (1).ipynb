{
 "cells": [
  {
   "cell_type": "code",
   "execution_count": null,
   "metadata": {
    "colab": {
     "base_uri": "https://localhost:8080/"
    },
    "id": "pEU7XedS4v5M",
    "outputId": "b6344511-dd04-40ff-c886-7862fc1437ae"
   },
   "outputs": [],
   "source": [
    "import pandas as pd\n",
    "import numpy as np\n",
    "import matplotlib.pyplot as plt\n",
    "import seaborn as sns\n",
    "\n",
    "from sklearn.preprocessing import LabelEncoder\n",
    "from sklearn.preprocessing import StandardScaler\n",
    "from sklearn.model_selection import train_test_split,GridSearchCV,cross_val_score\n",
    "from sklearn.metrics import accuracy_score,precision_score,recall_score,f1_score,confusion_matrix,classification_report,roc_curve,roc_auc_score\n",
    "from sklearn.ensemble import AdaBoostClassifier\n",
    "\n",
    "from sklearn.linear_model import LogisticRegression\n",
    "from sklearn.neighbors import KNeighborsClassifier\n",
    "from sklearn.tree import DecisionTreeClassifier\n",
    "from sklearn import tree\n",
    "from sklearn.ensemble import RandomForestClassifier,GradientBoostingClassifier\n",
    "from sklearn.svm import SVC\n",
    "\n",
    "!pip install xgboost\n",
    "from xgboost import XGBClassifier\n",
    "\n",
    "plt.rcParams['figure.figsize']=(15,10)\n",
    "plt.rcParams['figure.dpi']=300\n",
    "%matplotlib inline\n",
    "\n",
    "import warnings\n",
    "warnings.filterwarnings(\"ignore\")"
   ]
  },
  {
   "cell_type": "code",
   "execution_count": null,
   "metadata": {
    "colab": {
     "base_uri": "https://localhost:8080/",
     "height": 443
    },
    "id": "vr_57BtV66Zr",
    "outputId": "9525397b-3b88-4354-aa5e-2e7885c0ceb7"
   },
   "outputs": [],
   "source": [
    "# Load The DataSet\n",
    "df=pd.read_csv(\"project-data.csv\",delimiter=\";\")\n",
    "df"
   ]
  },
  {
   "cell_type": "markdown",
   "metadata": {
    "id": "DYmv5qmN7VrL"
   },
   "source": [
    "## **Exploratory Data Analysis**"
   ]
  },
  {
   "cell_type": "code",
   "execution_count": null,
   "metadata": {
    "colab": {
     "base_uri": "https://localhost:8080/",
     "height": 320
    },
    "id": "XuZy-Ljc7ZXd",
    "outputId": "e53b59c0-e2de-4727-d642-49fac43eb235"
   },
   "outputs": [],
   "source": [
    "df.describe()"
   ]
  },
  {
   "cell_type": "code",
   "execution_count": null,
   "metadata": {
    "colab": {
     "base_uri": "https://localhost:8080/",
     "height": 175
    },
    "id": "90vUPvLh7g8n",
    "outputId": "c9e0c096-3561-4ec8-e9d2-7a30c315c8ea"
   },
   "outputs": [],
   "source": [
    "df.describe(include=object)"
   ]
  },
  {
   "cell_type": "code",
   "execution_count": null,
   "metadata": {
    "colab": {
     "base_uri": "https://localhost:8080/"
    },
    "id": "M0wf8mSy7r44",
    "outputId": "a331ca20-60fd-4227-9059-ce369652ddbe"
   },
   "outputs": [],
   "source": [
    "df.info()"
   ]
  },
  {
   "cell_type": "code",
   "execution_count": null,
   "metadata": {
    "colab": {
     "base_uri": "https://localhost:8080/",
     "height": 491
    },
    "id": "A5EeQrfC7zT4",
    "outputId": "a67ef4ce-4249-43f6-a02c-0d41898a3dba"
   },
   "outputs": [],
   "source": [
    "df.dtypes"
   ]
  },
  {
   "cell_type": "code",
   "execution_count": null,
   "metadata": {
    "colab": {
     "base_uri": "https://localhost:8080/"
    },
    "id": "5hSZ4shmRwAL",
    "outputId": "e2308e95-9d09-4d4a-aba3-10ded1043644"
   },
   "outputs": [],
   "source": [
    "df.columns"
   ]
  },
  {
   "cell_type": "code",
   "execution_count": null,
   "metadata": {
    "id": "J3pO1Oc1SI9m"
   },
   "outputs": [],
   "source": [
    "df.rename(columns={\"protein   \":\"protein\"},inplace=True)"
   ]
  },
  {
   "cell_type": "code",
   "execution_count": null,
   "metadata": {
    "colab": {
     "base_uri": "https://localhost:8080/",
     "height": 458
    },
    "id": "r2jpULT-71_z",
    "outputId": "f5fc2dae-07ae-4ed4-8179-f00165e8728a"
   },
   "outputs": [],
   "source": [
    "# since the the protein column contains numerical columns biut it's of object data type\n",
    "# we convert the protein column from object data type to float datatype\n",
    "df[\"protein\"]"
   ]
  },
  {
   "cell_type": "code",
   "execution_count": null,
   "metadata": {
    "colab": {
     "base_uri": "https://localhost:8080/"
    },
    "id": "N0MIhyes9lVp",
    "outputId": "4358a450-cc09-415b-bef2-9e900e759516"
   },
   "outputs": [],
   "source": [
    "df[\"protein\"].unique()"
   ]
  },
  {
   "cell_type": "code",
   "execution_count": null,
   "metadata": {
    "id": "Z3yk09z9Rg19"
   },
   "outputs": [],
   "source": [
    "# Convert the protein column from object datatype to float datatype\n",
    "\n",
    "df['protein'] = pd.to_numeric(df['protein'], errors='coerce')"
   ]
  },
  {
   "cell_type": "code",
   "execution_count": null,
   "metadata": {
    "colab": {
     "base_uri": "https://localhost:8080/"
    },
    "id": "MzCFKBMUTDXS",
    "outputId": "85718bbb-d8f4-431c-fd3e-c460a5b6b741"
   },
   "outputs": [],
   "source": [
    "df[\"protein\"].unique()"
   ]
  },
  {
   "cell_type": "code",
   "execution_count": null,
   "metadata": {
    "colab": {
     "base_uri": "https://localhost:8080/",
     "height": 491
    },
    "id": "8gBtF-xfTQpJ",
    "outputId": "1aa6a0a0-abaa-4972-854f-49b5ea019cc2"
   },
   "outputs": [],
   "source": [
    "df.dtypes"
   ]
  },
  {
   "cell_type": "code",
   "execution_count": null,
   "metadata": {
    "colab": {
     "base_uri": "https://localhost:8080/",
     "height": 320
    },
    "id": "5p1cgCoxTTaG",
    "outputId": "fdc44b01-4f99-4ae7-a1f6-95e49b340130"
   },
   "outputs": [],
   "source": [
    "df.describe()"
   ]
  },
  {
   "cell_type": "code",
   "execution_count": null,
   "metadata": {
    "colab": {
     "base_uri": "https://localhost:8080/"
    },
    "id": "v5hiu_o3TZVc",
    "outputId": "0ae2ca63-ff34-4b4a-acb9-c2daadc1ad7c"
   },
   "outputs": [],
   "source": [
    "# to find the duplicate values in the dataset\n",
    "df.duplicated().sum()\n",
    "# there are no duplicate values"
   ]
  },
  {
   "cell_type": "code",
   "execution_count": null,
   "metadata": {
    "colab": {
     "base_uri": "https://localhost:8080/",
     "height": 491
    },
    "id": "T4ZHqOhuToJK",
    "outputId": "37094801-e828-4724-ca09-16c0e4291dec"
   },
   "outputs": [],
   "source": [
    "# to impute the missing values\n",
    "df.isnull().sum()"
   ]
  },
  {
   "cell_type": "code",
   "execution_count": null,
   "metadata": {
    "colab": {
     "base_uri": "https://localhost:8080/",
     "height": 492
    },
    "id": "hXZ5t7WxWZHM",
    "outputId": "94cbfad6-32a7-48cb-9970-1f932bab9984"
   },
   "outputs": [],
   "source": [
    "sns.heatmap(df.isnull(),cmap=\"viridis\")\n",
    "plt.tight_layout()"
   ]
  },
  {
   "cell_type": "markdown",
   "metadata": {
    "id": "seYeioG4UuI6"
   },
   "source": [
    "in the dataset the columns such as albumin, alkaline_phosphatase, alanine_aminotransferase, cholesterol and protein contains missing values\n",
    "\n",
    "to replace the missing values check for outliers\n",
    "\n",
    "Since the columns are numerical\n",
    "\n",
    "\n",
    "*   if outliers are present replace the missing values with the median\n",
    "*   otherwise replace the missing values with the mean\n",
    "\n",
    "\n",
    "\n"
   ]
  },
  {
   "cell_type": "code",
   "execution_count": null,
   "metadata": {
    "colab": {
     "base_uri": "https://localhost:8080/",
     "height": 445
    },
    "id": "824v-rmTUGT5",
    "outputId": "26ab4365-50d6-4fdb-8c89-3df6d5d4d4e4"
   },
   "outputs": [],
   "source": [
    "sns.boxplot(df,palette=\"rainbow\")\n",
    "plt.tight_layout()"
   ]
  },
  {
   "cell_type": "code",
   "execution_count": null,
   "metadata": {
    "colab": {
     "base_uri": "https://localhost:8080/",
     "height": 445
    },
    "id": "yrY1bzo-XI-j",
    "outputId": "3e480ec1-1ad2-4a9c-df82-c92b42c3db59"
   },
   "outputs": [],
   "source": [
    "df.hist()\n",
    "plt.tight_layout()"
   ]
  },
  {
   "cell_type": "code",
   "execution_count": null,
   "metadata": {
    "colab": {
     "base_uri": "https://localhost:8080/"
    },
    "id": "YSpgIfUSWJxJ",
    "outputId": "8e8d8859-bce6-4e8d-b37e-fd9c1954d3d8"
   },
   "outputs": [],
   "source": [
    "\n",
    "for i in df.isna().sum():\n",
    "  print(i/len(df)*100)"
   ]
  },
  {
   "cell_type": "code",
   "execution_count": null,
   "metadata": {
    "colab": {
     "base_uri": "https://localhost:8080/"
    },
    "id": "JMlJ0NMMW9Mr",
    "outputId": "fa11c3a1-34ba-4ea4-c7b0-f08df19992ae"
   },
   "outputs": [],
   "source": [
    "df[\"albumin\"].median()"
   ]
  },
  {
   "cell_type": "code",
   "execution_count": null,
   "metadata": {
    "id": "46zzZtw3XDXZ"
   },
   "outputs": [],
   "source": [
    "df[\"albumin\"].fillna(df[\"albumin\"].median(),inplace=True)"
   ]
  },
  {
   "cell_type": "code",
   "execution_count": null,
   "metadata": {
    "colab": {
     "base_uri": "https://localhost:8080/"
    },
    "id": "IawGqXQ9XdHa",
    "outputId": "2291d884-f476-48b6-be94-36278ef3866d"
   },
   "outputs": [],
   "source": [
    "df[\"alkaline_phosphatase\"].median()\n"
   ]
  },
  {
   "cell_type": "code",
   "execution_count": null,
   "metadata": {
    "id": "OB-0PIC0Xiq2"
   },
   "outputs": [],
   "source": [
    "df[\"alkaline_phosphatase\"].fillna(df[\"alkaline_phosphatase\"].median(),inplace=True)"
   ]
  },
  {
   "cell_type": "code",
   "execution_count": null,
   "metadata": {
    "colab": {
     "base_uri": "https://localhost:8080/"
    },
    "id": "rtz5LNnMXtNJ",
    "outputId": "0ec3d776-1fe9-4ffc-f0f0-4f4121a880bb"
   },
   "outputs": [],
   "source": [
    "df[\"alanine_aminotransferase\"].median()"
   ]
  },
  {
   "cell_type": "code",
   "execution_count": null,
   "metadata": {
    "id": "bRrmCq5DXwY8"
   },
   "outputs": [],
   "source": [
    "df[\"alanine_aminotransferase\"].fillna(df[\"alanine_aminotransferase\"].median(),inplace=True)"
   ]
  },
  {
   "cell_type": "code",
   "execution_count": null,
   "metadata": {
    "colab": {
     "base_uri": "https://localhost:8080/"
    },
    "id": "Q17BfmOrX7Y6",
    "outputId": "fe10a2c6-2a71-4a8b-ab0c-6b56e58c7d6e"
   },
   "outputs": [],
   "source": [
    "df[\"cholesterol\"].median()"
   ]
  },
  {
   "cell_type": "code",
   "execution_count": null,
   "metadata": {
    "id": "WfVip1fcX-bc"
   },
   "outputs": [],
   "source": [
    "df[\"cholesterol\"].fillna(df[\"cholesterol\"].median(),inplace=True)"
   ]
  },
  {
   "cell_type": "code",
   "execution_count": null,
   "metadata": {
    "colab": {
     "base_uri": "https://localhost:8080/"
    },
    "id": "9PUhC6Z3YRuf",
    "outputId": "a7da9600-2eb1-4c75-f3a2-fb0f8bd955d2"
   },
   "outputs": [],
   "source": [
    "df[\"protein\"].median()"
   ]
  },
  {
   "cell_type": "code",
   "execution_count": null,
   "metadata": {
    "id": "lYITaCSTYVeV"
   },
   "outputs": [],
   "source": [
    "df[\"protein\"].fillna(df[\"protein\"].median(),inplace=True)"
   ]
  },
  {
   "cell_type": "code",
   "execution_count": null,
   "metadata": {
    "colab": {
     "base_uri": "https://localhost:8080/",
     "height": 491
    },
    "id": "K8Y1H7keYimo",
    "outputId": "613b870b-0890-48cc-c08d-16c4aefbb845"
   },
   "outputs": [],
   "source": [
    "df.isnull().sum()"
   ]
  },
  {
   "cell_type": "markdown",
   "metadata": {
    "id": "OehdVVcSCcxn"
   },
   "source": [
    "There are 2 categorical columns in the Data set, Convert them into numerical"
   ]
  },
  {
   "cell_type": "code",
   "execution_count": null,
   "metadata": {
    "colab": {
     "base_uri": "https://localhost:8080/",
     "height": 178
    },
    "id": "KQzqJn4FkpAt",
    "outputId": "4632ea87-c7d7-42df-fd50-8d2ed59ca3dd"
   },
   "outputs": [],
   "source": [
    "df[\"sex\"].value_counts()"
   ]
  },
  {
   "cell_type": "code",
   "execution_count": null,
   "metadata": {
    "id": "xADRsTEfgwEX"
   },
   "outputs": [],
   "source": [
    "df['sex'] = df['sex'].map({'f': 0, 'm': 1})"
   ]
  },
  {
   "cell_type": "code",
   "execution_count": null,
   "metadata": {
    "colab": {
     "base_uri": "https://localhost:8080/",
     "height": 272
    },
    "id": "vl8fjVmhlGk_",
    "outputId": "d4904891-d101-47d4-bb77-549b2c714d3d"
   },
   "outputs": [],
   "source": [
    "df[\"category\"].value_counts()"
   ]
  },
  {
   "cell_type": "code",
   "execution_count": null,
   "metadata": {
    "id": "_VqRHbLDk09X"
   },
   "outputs": [],
   "source": [
    "le=LabelEncoder()\n",
    "df[\"category\"]=le.fit_transform(df[\"category\"])"
   ]
  },
  {
   "cell_type": "code",
   "execution_count": null,
   "metadata": {
    "colab": {
     "base_uri": "https://localhost:8080/",
     "height": 443
    },
    "id": "0R3kScpadjKz",
    "outputId": "f4f12368-12cb-44c6-b076-dd54b12eb253"
   },
   "outputs": [],
   "source": [
    "df"
   ]
  },
  {
   "cell_type": "code",
   "execution_count": null,
   "metadata": {
    "colab": {
     "base_uri": "https://localhost:8080/",
     "height": 445
    },
    "id": "tIfF7kCrv9tB",
    "outputId": "bf915366-05ff-42f4-e942-3d20735a455b"
   },
   "outputs": [],
   "source": [
    "sns.boxplot(df,palette=\"rainbow\")\n",
    "plt.tight_layout()"
   ]
  },
  {
   "cell_type": "code",
   "execution_count": null,
   "metadata": {
    "id": "PVxGxbvjYoUD"
   },
   "outputs": [],
   "source": [
    "# to treat the outliers\n",
    "#capping replacing outlier values is called capping\n",
    "#In capping all outlier values will be replaced by upper extreame or lower extreame\n",
    "#Outliesr detection : user defined function to calculate upper extreame and lower extreame\n",
    "def outlier_detection(data,colname):\n",
    "  q1=data[colname].quantile(0.25)\n",
    "  q2=data[colname].quantile(0.75)\n",
    "\n",
    "  iqr=q2-q1\n",
    "  upper_extreame=q2+(1.5*iqr)\n",
    "  lower_extreame=q1-(1.5*iqr)\n",
    "  return lower_extreame,upper_extreame,q1,q2\n"
   ]
  },
  {
   "cell_type": "code",
   "execution_count": null,
   "metadata": {
    "colab": {
     "base_uri": "https://localhost:8080/"
    },
    "id": "3SKe-E7JxGas",
    "outputId": "4df34ada-c05f-4e63-8e64-70668dc6ce8e"
   },
   "outputs": [],
   "source": [
    "outlier_detection(df,\"category\")"
   ]
  },
  {
   "cell_type": "code",
   "execution_count": null,
   "metadata": {
    "colab": {
     "base_uri": "https://localhost:8080/"
    },
    "id": "fdWpLSLRx1-f",
    "outputId": "95da2306-2d90-4222-d438-317ef409629b"
   },
   "outputs": [],
   "source": [
    "outlier_detection(df,\"age\")"
   ]
  },
  {
   "cell_type": "code",
   "execution_count": null,
   "metadata": {
    "colab": {
     "base_uri": "https://localhost:8080/"
    },
    "id": "8d5MMMUix9-e",
    "outputId": "2f9a311c-8613-489a-add7-56a5a1e5f5a4"
   },
   "outputs": [],
   "source": [
    "outlier_detection(df,\"albumin\")"
   ]
  },
  {
   "cell_type": "code",
   "execution_count": null,
   "metadata": {
    "colab": {
     "base_uri": "https://localhost:8080/"
    },
    "id": "3-gGl8-8yDd0",
    "outputId": "90463cb9-1966-404e-9c5c-4bba6104ee8d"
   },
   "outputs": [],
   "source": [
    "outlier_detection(df,\"alkaline_phosphatase\")"
   ]
  },
  {
   "cell_type": "code",
   "execution_count": null,
   "metadata": {
    "colab": {
     "base_uri": "https://localhost:8080/"
    },
    "id": "7r2-C0R6yIfu",
    "outputId": "8eaccbe6-9125-4bdd-94fb-f65a31829623"
   },
   "outputs": [],
   "source": [
    "outlier_detection(df,\"alanine_aminotransferase\")"
   ]
  },
  {
   "cell_type": "code",
   "execution_count": null,
   "metadata": {
    "colab": {
     "base_uri": "https://localhost:8080/"
    },
    "id": "pMbz6v2EyTqH",
    "outputId": "94f63686-f1d8-4770-ed5c-21622eb7284c"
   },
   "outputs": [],
   "source": [
    "outlier_detection(df,\"aspartate_aminotransferase\")"
   ]
  },
  {
   "cell_type": "code",
   "execution_count": null,
   "metadata": {
    "colab": {
     "base_uri": "https://localhost:8080/"
    },
    "id": "01AjTeMXycJL",
    "outputId": "edea7a4b-bc7e-48c9-df71-16c1cce183e6"
   },
   "outputs": [],
   "source": [
    "outlier_detection(df,\"bilirubin\")"
   ]
  },
  {
   "cell_type": "code",
   "execution_count": null,
   "metadata": {
    "colab": {
     "base_uri": "https://localhost:8080/"
    },
    "id": "KE3yJzcrykjx",
    "outputId": "e2b86109-8b58-4985-bbb6-f34cf588ec21"
   },
   "outputs": [],
   "source": [
    "outlier_detection(df,\"cholinesterase\")"
   ]
  },
  {
   "cell_type": "code",
   "execution_count": null,
   "metadata": {
    "colab": {
     "base_uri": "https://localhost:8080/"
    },
    "id": "7S5CSZU3ypf1",
    "outputId": "d3b98ced-2fa6-4175-d3c5-7320de7685b8"
   },
   "outputs": [],
   "source": [
    "outlier_detection(df,\"cholesterol\")"
   ]
  },
  {
   "cell_type": "code",
   "execution_count": null,
   "metadata": {
    "colab": {
     "base_uri": "https://localhost:8080/"
    },
    "id": "rrX1Az25ywP6",
    "outputId": "d64e068a-c978-412c-b43c-9247392da298"
   },
   "outputs": [],
   "source": [
    "outlier_detection(df,\"creatinina\")"
   ]
  },
  {
   "cell_type": "code",
   "execution_count": null,
   "metadata": {
    "colab": {
     "base_uri": "https://localhost:8080/"
    },
    "id": "TzSE1ez6y6fQ",
    "outputId": "14ee2c95-6504-4e8d-c285-58ae9bcc4edd"
   },
   "outputs": [],
   "source": [
    "outlier_detection(df,\"gamma_glutamyl_transferase \")"
   ]
  },
  {
   "cell_type": "code",
   "execution_count": null,
   "metadata": {
    "colab": {
     "base_uri": "https://localhost:8080/"
    },
    "id": "ecxNzXdqy666",
    "outputId": "3cad13e5-e808-428a-b5eb-d0e274c66b1b"
   },
   "outputs": [],
   "source": [
    "outlier_detection(df,\"protein\")"
   ]
  },
  {
   "cell_type": "code",
   "execution_count": null,
   "metadata": {
    "id": "-10MF1U4zDZP"
   },
   "outputs": [],
   "source": [
    "df.loc[df[\"category\"]>3.0,\"category\"]=3.0\n",
    "\n",
    "df.loc[df[\"age\"]>76.5,\"age\"]=76.5\n",
    "\n",
    "df.loc[df[\"albumin\"]>54.8,\"albumin\"]=54.8\n",
    "df.loc[df[\"albumin\"]<29.199,\"albumin\"]=29.199\n",
    "\n",
    "df.loc[df[\"alkaline_phosphatase\"]>118.824,\"alkaline_phosphatase\"]=118.824\n",
    "df.loc[df[\"alkaline_phosphatase\"]<13.425,\"alkaline_phosphatase\"]=13.425\n",
    "\n",
    "df.loc[df[\"alanine_aminotransferase\"]>58.0249,\"alanine_aminotransferase\"]=58.0249\n",
    "\n",
    "df.loc[df[\"aspartate_aminotransferase\"]>49.849,\"aspartate_aminotransferase\"]=49.849\n",
    "\n",
    "df.loc[df[\"bilirubin\"]>20.049,\"bilirubin\"]=20.049\n",
    "\n",
    "df.loc[df[\"cholinesterase\"]>13.5724,\"cholinesterase\"]=13.5724\n",
    "df.loc[df[\"cholinesterase\"]<2.9525,\"cholinesterase\"]=2.9525\n",
    "\n",
    "df.loc[df[\"cholesterol\"]>8.2075,\"cholesterol\"]=8.2075\n",
    "df.loc[df[\"cholesterol\"]<2.4675,\"cholesterol\"]=2.4675\n",
    "\n",
    "df.loc[df[\"creatinina\"]>119.5,\"creatinina\"]=119.5\n",
    "df.loc[df[\"creatinina\"]<35.5,\"creatinina\"]=35.5\n",
    "\n",
    "df.loc[df[\"gamma_glutamyl_transferase \"]>76.950,\"gamma_glutamyl_transferase \"]=76.950\n",
    "\n",
    "df.loc[df[\"protein\"]>84.550,\"protein\"]=84.550\n",
    "df.loc[df[\"protein\"]<60.149,\"protein\"]=60.149"
   ]
  },
  {
   "cell_type": "code",
   "execution_count": null,
   "metadata": {
    "colab": {
     "base_uri": "https://localhost:8080/",
     "height": 443
    },
    "id": "lrudcedp388k",
    "outputId": "33d7c1fb-24d7-4705-acb1-978fcbb63e8d"
   },
   "outputs": [],
   "source": [
    "df"
   ]
  },
  {
   "cell_type": "code",
   "execution_count": null,
   "metadata": {
    "colab": {
     "base_uri": "https://localhost:8080/",
     "height": 241
    },
    "id": "WduscK9m40dr",
    "outputId": "0db9452b-4487-48c6-f9a1-500139e480b6"
   },
   "outputs": [],
   "source": [
    "df[\"category\"].value_counts()"
   ]
  },
  {
   "cell_type": "code",
   "execution_count": null,
   "metadata": {
    "colab": {
     "base_uri": "https://localhost:8080/",
     "height": 445
    },
    "id": "EC3ETfFB6N85",
    "outputId": "c80f7d27-43ce-448f-aec2-a6b2a72bf0c2"
   },
   "outputs": [],
   "source": [
    "sns.countplot(x='category', data=df,palette=\"viridis\")\n",
    "plt.title('Liver Disease Categories Distribution')\n",
    "plt.xlabel('Diagnosis Category')\n",
    "plt.ylabel('Count')\n",
    "plt.tight_layout()\n",
    "plt.show()"
   ]
  },
  {
   "cell_type": "code",
   "execution_count": null,
   "metadata": {
    "colab": {
     "base_uri": "https://localhost:8080/",
     "height": 445
    },
    "id": "kmbiRVOWd6cZ",
    "outputId": "ed109f88-0070-48ce-924e-915a84c5332b"
   },
   "outputs": [],
   "source": [
    "plt.subplot(3,4,1)\n",
    "sns.distplot(df[\"age\"])\n",
    "plt.tight_layout()\n",
    "\n",
    "plt.subplot(3,4,2)\n",
    "sns.distplot(df[\"albumin\"])\n",
    "plt.tight_layout()\n",
    "\n",
    "plt.subplot(3,4,3)\n",
    "sns.distplot(df[\"alkaline_phosphatase\"])\n",
    "plt.tight_layout()\n",
    "\n",
    "plt.subplot(3,4,4)\n",
    "sns.distplot(df[\"alanine_aminotransferase\"])\n",
    "plt.tight_layout()\n",
    "\n",
    "plt.subplot(3,4,5)\n",
    "sns.distplot(df[\"aspartate_aminotransferase\"])\n",
    "plt.tight_layout()\n",
    "\n",
    "plt.subplot(3,4,6)\n",
    "sns.distplot(df[\"bilirubin\"])\n",
    "plt.tight_layout()\n",
    "\n",
    "plt.subplot(3,4,7)\n",
    "sns.distplot(df[\"cholinesterase\"])\n",
    "plt.tight_layout()\n",
    "\n",
    "plt.subplot(3,4,8)\n",
    "sns.distplot(df[\"cholesterol\"])\n",
    "plt.tight_layout()\n",
    "\n",
    "plt.subplot(3,4,9)\n",
    "sns.distplot(df[\"creatinina\"])\n",
    "plt.tight_layout()\n",
    "\n",
    "plt.subplot(3,4,10)\n",
    "sns.distplot(df[\"gamma_glutamyl_transferase \"])\n",
    "plt.tight_layout()\n",
    "\n",
    "plt.subplot(3,4,11)\n",
    "sns.distplot(df[\"protein\"])\n",
    "plt.tight_layout()\n",
    "\n",
    "\n"
   ]
  },
  {
   "cell_type": "code",
   "execution_count": null,
   "metadata": {
    "colab": {
     "base_uri": "https://localhost:8080/",
     "height": 320
    },
    "id": "aWZNZacdlnoy",
    "outputId": "041b4707-4182-4a68-e059-97717d593ad1"
   },
   "outputs": [],
   "source": [
    "df.describe()"
   ]
  },
  {
   "cell_type": "code",
   "execution_count": null,
   "metadata": {
    "colab": {
     "base_uri": "https://localhost:8080/",
     "height": 645
    },
    "id": "lDLPwsxPlho8",
    "outputId": "99555592-b2b7-40e6-b650-4db7580661e3"
   },
   "outputs": [],
   "source": [
    "sns.pairplot(df,hue=\"category\",palette=\"rainbow\")\n",
    "plt.tight_layout()"
   ]
  },
  {
   "cell_type": "code",
   "execution_count": null,
   "metadata": {
    "colab": {
     "base_uri": "https://localhost:8080/",
     "height": 445
    },
    "id": "yvwrDrsCmXjv",
    "outputId": "b288842e-3bb9-4df5-c04f-b055ea846b5f"
   },
   "outputs": [],
   "source": [
    "df.hist(color=\"yellow\",edgecolor=\"black\")\n",
    "plt.tight_layout()\n"
   ]
  },
  {
   "cell_type": "code",
   "execution_count": null,
   "metadata": {
    "colab": {
     "base_uri": "https://localhost:8080/",
     "height": 445
    },
    "id": "YlkIWt4RqCD8",
    "outputId": "87f5c728-fb50-4ae0-e5e2-d31a38e33cb5"
   },
   "outputs": [],
   "source": [
    "sns.boxplot(df,palette=\"rainbow\")\n",
    "plt.tight_layout()"
   ]
  },
  {
   "cell_type": "code",
   "execution_count": null,
   "metadata": {
    "colab": {
     "base_uri": "https://localhost:8080/",
     "height": 466
    },
    "id": "YoSxpM3InVFj",
    "outputId": "19771e05-8379-4479-fbfe-eadd8e5bbe06"
   },
   "outputs": [],
   "source": [
    "pd.crosstab(df[\"sex\"],df[\"category\"]).plot(kind=\"bar\")\n",
    "plt.tight_layout()\n",
    "plt.title(\"Gender Differncing based on category\")\n",
    "plt.xlabel(\"SEX\")\n",
    "plt.ylabel(\"COUNT\")"
   ]
  },
  {
   "cell_type": "code",
   "execution_count": null,
   "metadata": {
    "colab": {
     "base_uri": "https://localhost:8080/",
     "height": 676
    },
    "id": "vyLHC5genquh",
    "outputId": "c78633f7-7602-4718-bdbc-6f5cb44f85ec"
   },
   "outputs": [],
   "source": [
    "category_counts = df['category'].value_counts()\n",
    "plt.pie(category_counts, labels=category_counts.index, autopct='%1.1f%%')\n",
    "plt.title('Distribution of Categories')\n",
    "plt.tight_layout()\n",
    "plt.show()"
   ]
  },
  {
   "cell_type": "code",
   "execution_count": null,
   "metadata": {
    "colab": {
     "base_uri": "https://localhost:8080/",
     "height": 432
    },
    "id": "lX-8sEFco-LH",
    "outputId": "d949cdc4-ce81-4ea1-ad9d-0b88964519a9"
   },
   "outputs": [],
   "source": [
    "plt.figure(figsize=(10,6),facecolor='teal',edgecolor=\"red\",)\n",
    "sns.scatterplot(x=\"age\",y=\"albumin\",data=df,hue=\"category\",palette=\"coolwarm\")\n",
    "plt.tight_layout()\n",
    "plt.title(\"AGE VS ALBUMIN\")\n",
    "plt.xlabel(\"AGE\")\n",
    "plt.ylabel(\"ALBUMIN\")"
   ]
  },
  {
   "cell_type": "code",
   "execution_count": null,
   "metadata": {
    "colab": {
     "base_uri": "https://localhost:8080/",
     "height": 687
    },
    "id": "iNeHkNcj8fvU",
    "outputId": "0d3ec690-a596-47b6-ac13-e18461f69b02"
   },
   "outputs": [],
   "source": [
    "plt.figure(figsize=(10,6),facecolor=\"blue\",frameon=True)\n",
    "plt.violinplot(df)"
   ]
  },
  {
   "cell_type": "code",
   "execution_count": null,
   "metadata": {
    "colab": {
     "base_uri": "https://localhost:8080/",
     "height": 474
    },
    "id": "NsdAUo7F-Ap4",
    "outputId": "bfe03fd5-87af-4a05-96b1-776d94d216f0"
   },
   "outputs": [],
   "source": [
    "sns.swarmplot(x=\"sex\",y=\"cholesterol\",data=df,size=6,hue=\"category\")"
   ]
  },
  {
   "cell_type": "code",
   "execution_count": null,
   "metadata": {
    "colab": {
     "base_uri": "https://localhost:8080/",
     "height": 477
    },
    "id": "sDY3TfOP-sop",
    "outputId": "21620e8d-a1c2-4454-d070-beb7b85e5ad6"
   },
   "outputs": [],
   "source": [
    "df.corr()"
   ]
  },
  {
   "cell_type": "code",
   "execution_count": null,
   "metadata": {
    "colab": {
     "base_uri": "https://localhost:8080/",
     "height": 478
    },
    "id": "XFlb5l6T_DGV",
    "outputId": "d6a5d4d7-076c-49c1-e611-4d3ae151da09"
   },
   "outputs": [],
   "source": [
    "sns.heatmap(df.corr(),annot=True,cmap=\"RdYlGn\")\n",
    "plt.tight_layout()"
   ]
  },
  {
   "cell_type": "code",
   "execution_count": null,
   "metadata": {
    "id": "APuPVZ5p_f1Y"
   },
   "outputs": [],
   "source": [
    "x=df.drop(\"category\",axis=1)\n",
    "y=df[\"category\"]"
   ]
  },
  {
   "cell_type": "code",
   "execution_count": null,
   "metadata": {
    "id": "K5nePp7jBW5t"
   },
   "outputs": [],
   "source": [
    "# standardization\n",
    "\n",
    "sc=StandardScaler()\n",
    "x1=sc.fit_transform(x)"
   ]
  },
  {
   "cell_type": "code",
   "execution_count": null,
   "metadata": {
    "colab": {
     "base_uri": "https://localhost:8080/",
     "height": 443
    },
    "id": "Io1d1B54Btys",
    "outputId": "71e10eeb-e8ca-449d-ddd5-25ed0d335f5d"
   },
   "outputs": [],
   "source": [
    "x=pd.DataFrame(x1,columns=x.columns)\n",
    "x"
   ]
  },
  {
   "cell_type": "code",
   "execution_count": null,
   "metadata": {
    "colab": {
     "base_uri": "https://localhost:8080/",
     "height": 458
    },
    "id": "_lkGxikcB1jB",
    "outputId": "7ea271ef-2657-4664-97a1-6eacfba16619"
   },
   "outputs": [],
   "source": [
    "y # target column"
   ]
  },
  {
   "cell_type": "markdown",
   "metadata": {
    "id": "lmz8UygCnIXs"
   },
   "source": [
    "## **MODEL BUILDING**"
   ]
  },
  {
   "cell_type": "code",
   "execution_count": null,
   "metadata": {
    "id": "dSzSLgSYnGcC"
   },
   "outputs": [],
   "source": [
    "# splitting the dataset into training(77%) and testing(33%)data\n",
    "x_train,x_test,y_train,y_test=train_test_split(x,y,test_size=0.33,random_state=42)"
   ]
  },
  {
   "cell_type": "code",
   "execution_count": null,
   "metadata": {
    "colab": {
     "base_uri": "https://localhost:8080/",
     "height": 443
    },
    "id": "qdoIoTeTlO1k",
    "outputId": "58fdb427-d571-4b3b-c26e-9f94074abcc7"
   },
   "outputs": [],
   "source": [
    "x_train"
   ]
  },
  {
   "cell_type": "code",
   "execution_count": null,
   "metadata": {
    "colab": {
     "base_uri": "https://localhost:8080/",
     "height": 443
    },
    "id": "1VXUyOSpoIAy",
    "outputId": "dcca8e28-f289-4922-975a-f099bf484719"
   },
   "outputs": [],
   "source": [
    "x_test"
   ]
  },
  {
   "cell_type": "code",
   "execution_count": null,
   "metadata": {
    "colab": {
     "base_uri": "https://localhost:8080/",
     "height": 458
    },
    "id": "xk-5X2tGoKyF",
    "outputId": "722e7e0e-a28c-4a68-de54-dd82239dc123"
   },
   "outputs": [],
   "source": [
    "y_train"
   ]
  },
  {
   "cell_type": "code",
   "execution_count": null,
   "metadata": {
    "colab": {
     "base_uri": "https://localhost:8080/",
     "height": 458
    },
    "id": "BhfPfPCnoMnN",
    "outputId": "9bb2d788-30a7-4210-b1e8-3193e77ad1c8"
   },
   "outputs": [],
   "source": [
    "y_test"
   ]
  },
  {
   "cell_type": "markdown",
   "metadata": {
    "id": "uC1_YXs1s76e"
   },
   "source": [
    "### **1.Logistic Regression**"
   ]
  },
  {
   "cell_type": "code",
   "execution_count": null,
   "metadata": {
    "colab": {
     "base_uri": "https://localhost:8080/",
     "height": 80
    },
    "id": "Z0jl3bcjoWoN",
    "outputId": "2fd83b26-0f2a-49df-cd76-118bdbe8dcae"
   },
   "outputs": [],
   "source": [
    "model1=LogisticRegression()\n",
    "model1.fit(x_train,y_train)"
   ]
  },
  {
   "cell_type": "code",
   "execution_count": null,
   "metadata": {
    "colab": {
     "base_uri": "https://localhost:8080/"
    },
    "id": "MrXqK6Yvor1Y",
    "outputId": "62130eb1-05c7-4d0f-ec1f-e1b07dba7ef6"
   },
   "outputs": [],
   "source": [
    "y_predict1=model1.predict(x_test)\n",
    "y_predict1"
   ]
  },
  {
   "cell_type": "code",
   "execution_count": null,
   "metadata": {
    "colab": {
     "base_uri": "https://localhost:8080/",
     "height": 423
    },
    "id": "5MuFa-hYo5jH",
    "outputId": "282970fc-30c7-41be-fb5d-d098ce4568c9"
   },
   "outputs": [],
   "source": [
    "df1=pd.DataFrame({\"Actual\":y_test,\"predicted\":y_predict1})\n",
    "df1"
   ]
  },
  {
   "cell_type": "code",
   "execution_count": null,
   "metadata": {
    "colab": {
     "base_uri": "https://localhost:8080/"
    },
    "id": "1tpV3Stmpz1U",
    "outputId": "2f5a7349-ee0f-4a64-c523-d925a69dbc72"
   },
   "outputs": [],
   "source": [
    "# confusion matrix for the model accuracy TP  FP\n",
    "#                                         FN  TF\n",
    "\n",
    "conf_matrix=confusion_matrix(y_test,y_predict1)\n",
    "print(conf_matrix)"
   ]
  },
  {
   "cell_type": "code",
   "execution_count": null,
   "metadata": {
    "colab": {
     "base_uri": "https://localhost:8080/"
    },
    "id": "5TCn7EYpvlfh",
    "outputId": "a345d1dd-f72c-4a4e-9050-7a4cdd219405"
   },
   "outputs": [],
   "source": [
    "print(\"training accuracy:\", model1.score(x_train,y_train))\n",
    "print(\"testing accuracy:\", model1.score(x_test,y_test))"
   ]
  },
  {
   "cell_type": "code",
   "execution_count": null,
   "metadata": {
    "colab": {
     "base_uri": "https://localhost:8080/"
    },
    "id": "kIa-1N6VwhvU",
    "outputId": "035e6bba-96f2-4ee5-edb9-d79ecb0ed0fa"
   },
   "outputs": [],
   "source": [
    "class_report1=classification_report(y_test,y_predict1)\n",
    "print(class_report1)"
   ]
  },
  {
   "cell_type": "markdown",
   "metadata": {
    "id": "52SIVjo_xLAi"
   },
   "source": [
    "## **2.Decision Tree Classifier**"
   ]
  },
  {
   "cell_type": "code",
   "execution_count": null,
   "metadata": {
    "colab": {
     "base_uri": "https://localhost:8080/",
     "height": 80
    },
    "id": "4lTrUAfOw2vY",
    "outputId": "59f89c92-4438-445a-cd1e-cb2b2744a16f"
   },
   "outputs": [],
   "source": [
    "model2=DecisionTreeClassifier()\n",
    "model2.fit(x_train,y_train)"
   ]
  },
  {
   "cell_type": "code",
   "execution_count": null,
   "metadata": {
    "colab": {
     "base_uri": "https://localhost:8080/"
    },
    "id": "VWriBjOU1yq0",
    "outputId": "85882762-4a19-4926-9478-befd8d66e933"
   },
   "outputs": [],
   "source": [
    "x.columns"
   ]
  },
  {
   "cell_type": "code",
   "execution_count": null,
   "metadata": {
    "colab": {
     "base_uri": "https://localhost:8080/"
    },
    "id": "TBaasPxb11G6",
    "outputId": "4fdb53ed-4468-4286-a144-6a54f23d9da0"
   },
   "outputs": [],
   "source": [
    "y.unique()"
   ]
  },
  {
   "cell_type": "code",
   "execution_count": null,
   "metadata": {
    "colab": {
     "base_uri": "https://localhost:8080/",
     "height": 445
    },
    "id": "qzwqpZlq1aKt",
    "outputId": "82b2c671-fc6d-4ddf-b1d8-bf6cf236bfe9"
   },
   "outputs": [],
   "source": [
    "fn=x.columns\n",
    "cn=['3','2','1','0']\n",
    "tree.plot_tree(model2,feature_names=fn.to_list(),class_names=cn,filled=True)\n",
    "plt.tight_layout()"
   ]
  },
  {
   "cell_type": "code",
   "execution_count": null,
   "metadata": {
    "colab": {
     "base_uri": "https://localhost:8080/"
    },
    "id": "p29XAQbG2EdV",
    "outputId": "12e7e343-9cc0-493f-bcd4-e510c0fac0a9"
   },
   "outputs": [],
   "source": [
    "y_predict2=model2.predict(x_test)\n",
    "y_predict2"
   ]
  },
  {
   "cell_type": "code",
   "execution_count": null,
   "metadata": {
    "colab": {
     "base_uri": "https://localhost:8080/"
    },
    "id": "iteSdaa-2M3N",
    "outputId": "0bfb8ff0-a729-4909-9ff6-fce961a5ad24"
   },
   "outputs": [],
   "source": [
    "y_test.values"
   ]
  },
  {
   "cell_type": "code",
   "execution_count": null,
   "metadata": {
    "colab": {
     "base_uri": "https://localhost:8080/"
    },
    "id": "mrRM_fLz2RYc",
    "outputId": "23a1bb3b-8d8c-497c-f52c-5445384c2f45"
   },
   "outputs": [],
   "source": [
    "print(\"train_accuracy:\",model2.score(x_train,y_train))\n",
    "print(\"test_accuracy:\",model2.score(x_test,y_test))"
   ]
  },
  {
   "cell_type": "code",
   "execution_count": null,
   "metadata": {
    "id": "QVuhZbNs2Us7"
   },
   "outputs": [],
   "source": [
    "# hyper parameter Tuning\n",
    "params={\n",
    "    'criterion':['gini','entropy'],\n",
    "    'max_depth':[2,3,4,5,6,7,8,9],\n",
    "    'min_samples_split':[2,3,4,5,6,7,8,9],\n",
    "\n",
    "}"
   ]
  },
  {
   "cell_type": "code",
   "execution_count": null,
   "metadata": {
    "colab": {
     "base_uri": "https://localhost:8080/",
     "height": 152
    },
    "id": "JRVli9EA2fxj",
    "outputId": "c494d1f0-95b9-4891-e9ff-68d6bd3d5b00"
   },
   "outputs": [],
   "source": [
    "grid=GridSearchCV(DecisionTreeClassifier(),param_grid=params,verbose=1)\n",
    "grid.fit(x_train,y_train)"
   ]
  },
  {
   "cell_type": "code",
   "execution_count": null,
   "metadata": {
    "colab": {
     "base_uri": "https://localhost:8080/"
    },
    "id": "HgkrlCq82mF4",
    "outputId": "c7dbc012-c038-4e1c-fd98-4bfa631cfb2f"
   },
   "outputs": [],
   "source": [
    "grid.best_params_"
   ]
  },
  {
   "cell_type": "code",
   "execution_count": null,
   "metadata": {
    "colab": {
     "base_uri": "https://localhost:8080/",
     "height": 80
    },
    "id": "fqLyRgwF2noi",
    "outputId": "288beac3-2501-4a41-e620-e7aeee52d452"
   },
   "outputs": [],
   "source": [
    "model2=DecisionTreeClassifier(criterion=\"gini\",max_depth=3,min_samples_split=8,random_state=42)\n",
    "model2.fit(x_train,y_train)"
   ]
  },
  {
   "cell_type": "code",
   "execution_count": null,
   "metadata": {
    "colab": {
     "base_uri": "https://localhost:8080/",
     "height": 445
    },
    "id": "gmcMO59C3BDZ",
    "outputId": "09a06485-6667-4d9e-8755-99ae23ecc30a"
   },
   "outputs": [],
   "source": [
    "fn=x.columns\n",
    "cn=['3','2','1','0']\n",
    "tree.plot_tree(model2,feature_names=fn.to_list(),class_names=cn,filled=True)\n",
    "plt.tight_layout()"
   ]
  },
  {
   "cell_type": "code",
   "execution_count": null,
   "metadata": {
    "colab": {
     "base_uri": "https://localhost:8080/"
    },
    "id": "yzN4WQK_3HaY",
    "outputId": "14ad74be-f6a8-436a-9886-1459fe3f4163"
   },
   "outputs": [],
   "source": [
    "y_predict2=model2.predict(x_test)\n",
    "y_predict2"
   ]
  },
  {
   "cell_type": "code",
   "execution_count": null,
   "metadata": {
    "colab": {
     "base_uri": "https://localhost:8080/"
    },
    "id": "_C21tLo_3Ipv",
    "outputId": "01fb159f-32b5-4a1b-a9a5-ee29da15e644"
   },
   "outputs": [],
   "source": [
    "y_test.values"
   ]
  },
  {
   "cell_type": "code",
   "execution_count": null,
   "metadata": {
    "colab": {
     "base_uri": "https://localhost:8080/"
    },
    "id": "LgulC4QH3iBp",
    "outputId": "1323be9d-556b-4575-d8b4-ee4391985633"
   },
   "outputs": [],
   "source": [
    "print(\"train_accuracy:\",model2.score(x_train,y_train))\n",
    "print(\"test_accuracy:\",model2.score(x_test,y_test))"
   ]
  },
  {
   "cell_type": "code",
   "execution_count": null,
   "metadata": {
    "colab": {
     "base_uri": "https://localhost:8080/"
    },
    "id": "Fee_7PiB3ls-",
    "outputId": "99c938db-5b33-4f3b-bf5f-5e5bf7868ff4"
   },
   "outputs": [],
   "source": [
    "class_report2=classification_report(y_test,y_predict2)\n",
    "print(class_report2)"
   ]
  },
  {
   "cell_type": "markdown",
   "metadata": {
    "id": "GMz5Pp8U4HNh"
   },
   "source": [
    "## **3.Random Forest Classifier**"
   ]
  },
  {
   "cell_type": "code",
   "execution_count": null,
   "metadata": {
    "colab": {
     "base_uri": "https://localhost:8080/",
     "height": 80
    },
    "id": "i2v_tkqB3zXT",
    "outputId": "4dbb0fd5-1da3-40da-94d9-9d983eeee86f"
   },
   "outputs": [],
   "source": [
    "model3=RandomForestClassifier(random_state=2)\n",
    "model3.fit(x_train,y_train)"
   ]
  },
  {
   "cell_type": "code",
   "execution_count": null,
   "metadata": {
    "colab": {
     "base_uri": "https://localhost:8080/"
    },
    "id": "9BW3WH3D4h96",
    "outputId": "9b949ba5-c2d5-419a-b95d-e07800a02ddc"
   },
   "outputs": [],
   "source": [
    "y_predict3=model3.predict(x_test)\n",
    "y_predict3"
   ]
  },
  {
   "cell_type": "code",
   "execution_count": null,
   "metadata": {
    "colab": {
     "base_uri": "https://localhost:8080/"
    },
    "id": "E3oh-7Cz4sJt",
    "outputId": "60de57da-23f7-4148-be0f-511e50accd1a"
   },
   "outputs": [],
   "source": [
    "y_test.values"
   ]
  },
  {
   "cell_type": "code",
   "execution_count": null,
   "metadata": {
    "colab": {
     "base_uri": "https://localhost:8080/"
    },
    "id": "hdFD594t4xi9",
    "outputId": "07eb4d93-d188-459c-a39a-8babdbf259b8"
   },
   "outputs": [],
   "source": [
    "print('train accuracy:',model3.score(x_train,y_train))\n",
    "print('test accuracy:',model3.score(x_test,y_test))"
   ]
  },
  {
   "cell_type": "code",
   "execution_count": null,
   "metadata": {
    "id": "4zkPFPn948Hq"
   },
   "outputs": [],
   "source": [
    "# Hyper Parameter Tuning\n",
    "params={\n",
    "    'n_estimators':[90,100,150],\n",
    "    'max_depth':[3,4,5,6,7,9],\n",
    "    'min_samples_split':[2,4,6,8],\n",
    "    'criterion':['gini','entropy']\n",
    "\n",
    "    }\n"
   ]
  },
  {
   "cell_type": "code",
   "execution_count": null,
   "metadata": {
    "colab": {
     "base_uri": "https://localhost:8080/",
     "height": 134
    },
    "id": "rjiE0Q-25GLX",
    "outputId": "551e2abe-c845-4c2c-cb24-3cc743f8755b"
   },
   "outputs": [],
   "source": [
    "grid=GridSearchCV(estimator=model3,param_grid=params,cv=5)\n",
    "grid.fit(x_train,y_train)"
   ]
  },
  {
   "cell_type": "code",
   "execution_count": null,
   "metadata": {
    "id": "GkAMYg6Z5KL_"
   },
   "outputs": [],
   "source": [
    "grid.best_params_"
   ]
  },
  {
   "cell_type": "code",
   "execution_count": null,
   "metadata": {
    "colab": {
     "base_uri": "https://localhost:8080/",
     "height": 80
    },
    "id": "hYhKQCYr53ew",
    "outputId": "25eb179c-48fc-4c67-f657-49ff28006ea3"
   },
   "outputs": [],
   "source": [
    "model3=RandomForestClassifier(criterion=\"gini\",max_depth=6,min_samples_split=4,n_estimators=90)\n",
    "model3.fit(x_train,y_train)"
   ]
  },
  {
   "cell_type": "code",
   "execution_count": null,
   "metadata": {
    "colab": {
     "base_uri": "https://localhost:8080/",
     "height": 445
    },
    "id": "EmMz9jMU6ggV",
    "outputId": "9beb47be-4e24-4b2e-e3b5-5acca60ac622"
   },
   "outputs": [],
   "source": [
    "fn=x.columns\n",
    "cn=['3','2','1','0']\n",
    "tree.plot_tree(model3.estimators_[0],feature_names=fn.to_list(),class_names=cn,filled=True)\n",
    "plt.tight_layout()"
   ]
  },
  {
   "cell_type": "code",
   "execution_count": null,
   "metadata": {
    "colab": {
     "base_uri": "https://localhost:8080/",
     "height": 134
    },
    "id": "J8dg_DZe7Ayh",
    "outputId": "f30f799d-7b52-4ccf-b43c-47b2902b4a46"
   },
   "outputs": [],
   "source": [
    "model3=AdaBoostClassifier(estimator=model3,n_estimators=100,random_state=42)\n",
    "model3.fit(x_train,y_train)"
   ]
  },
  {
   "cell_type": "code",
   "execution_count": null,
   "metadata": {
    "colab": {
     "base_uri": "https://localhost:8080/"
    },
    "id": "m8UIdkgd7_0o",
    "outputId": "7e3a8ce1-b952-46c0-e82b-167f1a35d79b"
   },
   "outputs": [],
   "source": [
    "y_predict3=model3.predict(x_test)\n",
    "y_predict3"
   ]
  },
  {
   "cell_type": "code",
   "execution_count": null,
   "metadata": {
    "colab": {
     "base_uri": "https://localhost:8080/"
    },
    "id": "2uhXs_9e8Hlu",
    "outputId": "167ff721-81a5-4780-936e-3fb7c7d13788"
   },
   "outputs": [],
   "source": [
    "y_test.values"
   ]
  },
  {
   "cell_type": "code",
   "execution_count": null,
   "metadata": {
    "colab": {
     "base_uri": "https://localhost:8080/"
    },
    "id": "8GvzxGO88KPx",
    "outputId": "b2c18082-86d9-4470-ca37-0006e4bb2a27"
   },
   "outputs": [],
   "source": [
    "print('train accuracy:',model3.score(x_train,y_train))\n",
    "print('test accuracy:',model3.score(x_test,y_test))"
   ]
  },
  {
   "cell_type": "code",
   "execution_count": null,
   "metadata": {
    "colab": {
     "base_uri": "https://localhost:8080/"
    },
    "id": "YCvIBYBd8VhE",
    "outputId": "94193394-dab0-415e-8687-4d5f2f7ac6c8"
   },
   "outputs": [],
   "source": [
    "class_report3=classification_report(y_test,y_predict3)\n",
    "print(class_report3)"
   ]
  },
  {
   "cell_type": "markdown",
   "metadata": {
    "id": "11q6Y8bJ9F-8"
   },
   "source": [
    "## 4.Gradient Boosting Classifier"
   ]
  },
  {
   "cell_type": "code",
   "execution_count": null,
   "metadata": {
    "id": "QY5cm2K_896E"
   },
   "outputs": [],
   "source": [
    "params={\n",
    "    'n_estimators':[90,110,150], # randomly select no of trees/models\n",
    "    'learning_rate':[0.5,0.6,0.7,0.9,1],\n",
    "    'max_depth':[3,5,7,11]\n",
    "}"
   ]
  },
  {
   "cell_type": "code",
   "execution_count": null,
   "metadata": {
    "colab": {
     "base_uri": "https://localhost:8080/",
     "height": 152
    },
    "id": "OBNyv0AU9UJu",
    "outputId": "64026be7-5089-46dd-bec5-1679a07c33ee"
   },
   "outputs": [],
   "source": [
    "grid = GridSearchCV(GradientBoostingClassifier(),param_grid=params,verbose=1)\n",
    "grid.fit(x_train,y_train)"
   ]
  },
  {
   "cell_type": "code",
   "execution_count": null,
   "metadata": {
    "colab": {
     "base_uri": "https://localhost:8080/"
    },
    "id": "ATNtwBDv-CE-",
    "outputId": "06b3bfd7-4fb9-4ece-b6f1-e4b40bcd4b6a"
   },
   "outputs": [],
   "source": [
    "grid.best_params_"
   ]
  },
  {
   "cell_type": "code",
   "execution_count": null,
   "metadata": {
    "colab": {
     "base_uri": "https://localhost:8080/",
     "height": 80
    },
    "id": "lXar9sSE-E1t",
    "outputId": "5f1fcc09-a243-4b95-edbc-9da5cae9a58b"
   },
   "outputs": [],
   "source": [
    "model4=GradientBoostingClassifier(learning_rate=0.6,max_depth=3,n_estimators=110)\n",
    "model4.fit(x_train,y_train)"
   ]
  },
  {
   "cell_type": "code",
   "execution_count": null,
   "metadata": {
    "colab": {
     "base_uri": "https://localhost:8080/"
    },
    "id": "PMHJfyPV-lo1",
    "outputId": "a9bbbe39-886e-41ab-956c-2ff593ae4813"
   },
   "outputs": [],
   "source": [
    "y_predict4=model4.predict(x_test)\n",
    "y_predict4"
   ]
  },
  {
   "cell_type": "code",
   "execution_count": null,
   "metadata": {
    "colab": {
     "base_uri": "https://localhost:8080/"
    },
    "id": "Irv_q411-r5a",
    "outputId": "c6bc3083-99ce-4770-cc7a-e25587abdca3"
   },
   "outputs": [],
   "source": [
    "y_test.values"
   ]
  },
  {
   "cell_type": "code",
   "execution_count": null,
   "metadata": {
    "colab": {
     "base_uri": "https://localhost:8080/"
    },
    "id": "t3uEcWcZ-vPR",
    "outputId": "6dc361db-9334-4ad5-885e-8a0eff0615b5"
   },
   "outputs": [],
   "source": [
    "print('train accuracy:',model4.score(x_train,y_train))\n",
    "print('test accuracy:',model4.score(x_test,y_test))"
   ]
  },
  {
   "cell_type": "code",
   "execution_count": null,
   "metadata": {
    "colab": {
     "base_uri": "https://localhost:8080/"
    },
    "id": "VX1gibcwAGQB",
    "outputId": "9299a8e7-8f3e-4f9c-8602-a23e8731c5fb"
   },
   "outputs": [],
   "source": [
    "class_report4=classification_report(y_test,y_predict4)\n",
    "print(class_report4)"
   ]
  },
  {
   "cell_type": "markdown",
   "metadata": {
    "id": "LxcuRx7C_UYr"
   },
   "source": [
    "## **5.XGBM Classifier**"
   ]
  },
  {
   "cell_type": "code",
   "execution_count": null,
   "metadata": {
    "id": "CNXq-YoN_TpH"
   },
   "outputs": [],
   "source": [
    "params={\n",
    "    'n_estimators':[90,110,150],\n",
    "    'learning_rate':[0.5,0.7,1],\n",
    "    'lambda':[1,2,3],\n",
    "    'max_depth':[3,7,11]\n",
    "}"
   ]
  },
  {
   "cell_type": "code",
   "execution_count": null,
   "metadata": {
    "colab": {
     "base_uri": "https://localhost:8080/",
     "height": 152
    },
    "id": "UEjXsqja_dP5",
    "outputId": "82428528-6d92-4d1c-e3d6-1b4cfd714ac3"
   },
   "outputs": [],
   "source": [
    "grid=GridSearchCV(XGBClassifier(),param_grid=params,verbose=1)\n",
    "grid.fit(x_train,y_train)"
   ]
  },
  {
   "cell_type": "code",
   "execution_count": null,
   "metadata": {
    "colab": {
     "base_uri": "https://localhost:8080/"
    },
    "id": "SA8izW0B_946",
    "outputId": "e41cd55a-4f88-49c2-9bc2-09f2cb942bac"
   },
   "outputs": [],
   "source": [
    "grid.best_params_"
   ]
  },
  {
   "cell_type": "code",
   "execution_count": null,
   "metadata": {
    "colab": {
     "base_uri": "https://localhost:8080/",
     "height": 253
    },
    "id": "hD64wOzoANYQ",
    "outputId": "93aca7b7-a6f4-48bd-a8d6-fe3c45136488"
   },
   "outputs": [],
   "source": [
    "model5 = XGBClassifier(reg_lambda=1,learning_rate=0.5,max_depth=7,n_estimators=110)\n",
    "model5.fit(x_train,y_train)"
   ]
  },
  {
   "cell_type": "code",
   "execution_count": null,
   "metadata": {
    "colab": {
     "base_uri": "https://localhost:8080/"
    },
    "id": "OoGXUxDaAtoz",
    "outputId": "79b79374-003b-4cff-a34d-c0b4667ac9ed"
   },
   "outputs": [],
   "source": [
    "y_predict5=model5.predict(x_test)\n",
    "y_predict5"
   ]
  },
  {
   "cell_type": "code",
   "execution_count": null,
   "metadata": {
    "colab": {
     "base_uri": "https://localhost:8080/"
    },
    "id": "qSNGknAEA5Qg",
    "outputId": "8d53137b-9614-45a5-c0f5-aa4683bd67cf"
   },
   "outputs": [],
   "source": [
    "y_test.values"
   ]
  },
  {
   "cell_type": "code",
   "execution_count": null,
   "metadata": {
    "colab": {
     "base_uri": "https://localhost:8080/"
    },
    "id": "GZmGequrA9li",
    "outputId": "75ddbe68-86ba-4c53-9c76-3fd81c6a3e15"
   },
   "outputs": [],
   "source": [
    "print('train accuracy:',model5.score(x_train,y_train))\n",
    "print('test accuracy:',model5.score(x_test,y_test))"
   ]
  },
  {
   "cell_type": "code",
   "execution_count": null,
   "metadata": {
    "colab": {
     "base_uri": "https://localhost:8080/"
    },
    "id": "J6qKU80yBHUD",
    "outputId": "fae155e8-0021-41e7-de89-8168fdefc1b7"
   },
   "outputs": [],
   "source": [
    "class_report5=classification_report(y_test,y_predict5)\n",
    "print(class_report5)"
   ]
  },
  {
   "cell_type": "markdown",
   "metadata": {
    "id": "NuaPjT2RBYpt"
   },
   "source": [
    "## **6.K Nearest Neighbors (KNN)**"
   ]
  },
  {
   "cell_type": "code",
   "execution_count": null,
   "metadata": {
    "id": "UyY0blthBW43"
   },
   "outputs": [],
   "source": [
    "params={'n_neighbors':[2,3,4,5,6,7,8,9,10],\n",
    "       'weights':['distance','uniform']}"
   ]
  },
  {
   "cell_type": "code",
   "execution_count": null,
   "metadata": {
    "colab": {
     "base_uri": "https://localhost:8080/",
     "height": 134
    },
    "id": "8q-OTPbFCT14",
    "outputId": "dbf82816-afa1-4b7d-9e9d-e530a38dc6f6"
   },
   "outputs": [],
   "source": [
    "model=KNeighborsClassifier()\n",
    "grid=GridSearchCV(KNeighborsClassifier(),param_grid=params)\n",
    "grid.fit(x_train,y_train)"
   ]
  },
  {
   "cell_type": "code",
   "execution_count": null,
   "metadata": {
    "colab": {
     "base_uri": "https://localhost:8080/"
    },
    "id": "c0qsw_KzCitm",
    "outputId": "52867382-171a-42ba-fe28-6b42d66486f8"
   },
   "outputs": [],
   "source": [
    "grid.best_params_"
   ]
  },
  {
   "cell_type": "code",
   "execution_count": null,
   "metadata": {
    "colab": {
     "base_uri": "https://localhost:8080/",
     "height": 80
    },
    "id": "o-ifWkn1Cl8j",
    "outputId": "aac14b3f-b478-4023-c9dd-dfcfcddc3be8"
   },
   "outputs": [],
   "source": [
    "model6=KNeighborsClassifier(n_neighbors=3,weights=\"distance\")\n",
    "model6.fit(x_train,y_train)"
   ]
  },
  {
   "cell_type": "code",
   "execution_count": null,
   "metadata": {
    "colab": {
     "base_uri": "https://localhost:8080/"
    },
    "id": "NRv5ZaOMDGTp",
    "outputId": "d36e1eb9-3250-4f4d-d88a-057e25c12f4b"
   },
   "outputs": [],
   "source": [
    "y_predict6=model6.predict(x_test)\n",
    "y_predict6"
   ]
  },
  {
   "cell_type": "code",
   "execution_count": null,
   "metadata": {
    "colab": {
     "base_uri": "https://localhost:8080/"
    },
    "id": "YO-KlCV7DPBp",
    "outputId": "228e3a2c-1b84-45e9-dd5a-7a2163ad7196"
   },
   "outputs": [],
   "source": [
    "y_test.values\n"
   ]
  },
  {
   "cell_type": "code",
   "execution_count": null,
   "metadata": {
    "colab": {
     "base_uri": "https://localhost:8080/"
    },
    "id": "5FO1mwNwDU1b",
    "outputId": "7d386b7e-34d6-4f44-ff49-05163f3759bb"
   },
   "outputs": [],
   "source": [
    "print('train accuracy:',model6.score(x_train,y_train))\n",
    "print('test accuracy:',model6.score(x_test,y_test))"
   ]
  },
  {
   "cell_type": "code",
   "execution_count": null,
   "metadata": {
    "colab": {
     "base_uri": "https://localhost:8080/"
    },
    "id": "s4-57sxbDdxO",
    "outputId": "b872fc27-ea6a-483a-91ef-225b06f547d3"
   },
   "outputs": [],
   "source": [
    "class_report6=classification_report(y_test,y_predict6)\n",
    "print(class_report6)"
   ]
  },
  {
   "cell_type": "code",
   "execution_count": null,
   "metadata": {
    "colab": {
     "base_uri": "https://localhost:8080/",
     "height": 1000
    },
    "id": "VAritgwNDkOU",
    "outputId": "6947f9d4-520c-4314-b2bc-a480ace4ed4f"
   },
   "outputs": [],
   "source": [
    "#search for an optimal value of k for knn\n",
    "# range of k we want to try\n",
    "k_range=range(1,41)\n",
    "# empty list to store scores\n",
    "k_scores=[]\n",
    "\n",
    "for k in k_range:\n",
    "  #2. run KneighborsClassifier with K neighbors\n",
    "  knn=KNeighborsClassifier(n_neighbors=k)\n",
    "  #3. obtain cross_val_scores for KNN with kneighbors\n",
    "  scores=cross_val_score(knn,x_train,y_train,scoring='accuracy')\n",
    "  #4. append mean of scores for k neighbors to k_scores list\n",
    "  k_scores.append(scores.mean())\n",
    "# k_scores=grid.best_score_\n",
    "pd.Series(k_scores).sort_values(ascending=False)"
   ]
  },
  {
   "cell_type": "code",
   "execution_count": null,
   "metadata": {
    "colab": {
     "base_uri": "https://localhost:8080/",
     "height": 449
    },
    "id": "sAEA9Bi7EmLm",
    "outputId": "69642c0c-01af-4e79-b539-e82df745592f"
   },
   "outputs": [],
   "source": [
    "import matplotlib.pyplot as plt\n",
    "plt.plot(k_range,k_scores)\n",
    "plt.xlabel(\"value of k for knn\")\n",
    "plt.ylabel('Accuracy')\n",
    "plt.show()"
   ]
  },
  {
   "cell_type": "markdown",
   "metadata": {
    "id": "ir7ahJenEu74"
   },
   "source": [
    "## **7.SVM**"
   ]
  },
  {
   "cell_type": "code",
   "execution_count": null,
   "metadata": {
    "id": "5aVTzPkWEtYn"
   },
   "outputs": [],
   "source": [
    "params={\n",
    "    'C':[0.1,0.001,1,2,3,4,5],\n",
    "    'kernel':['linear','poly','rbf'],\n",
    "    'gamma':[0.1,0.001,1,2,5]\n",
    "}"
   ]
  },
  {
   "cell_type": "code",
   "execution_count": null,
   "metadata": {
    "colab": {
     "base_uri": "https://localhost:8080/",
     "height": 152
    },
    "id": "dlqc-wujFB4r",
    "outputId": "0514e37c-8efe-45ce-d989-b7b8dce08d8f"
   },
   "outputs": [],
   "source": [
    "grid=GridSearchCV(SVC(),param_grid=params,verbose=1)\n",
    "grid.fit(x_train,y_train)"
   ]
  },
  {
   "cell_type": "code",
   "execution_count": null,
   "metadata": {
    "colab": {
     "base_uri": "https://localhost:8080/"
    },
    "id": "qwLDGsHeFMJd",
    "outputId": "098e62f8-96b7-43f8-fbe1-27ea8b91fd91"
   },
   "outputs": [],
   "source": [
    "grid.best_params_"
   ]
  },
  {
   "cell_type": "code",
   "execution_count": null,
   "metadata": {
    "colab": {
     "base_uri": "https://localhost:8080/",
     "height": 80
    },
    "id": "dBK0mgknFNmV",
    "outputId": "cf43ff1a-4c48-4272-de86-463502cdf2b8"
   },
   "outputs": [],
   "source": [
    "model7=SVC(C=0.1,gamma=0.1,kernel='poly')\n",
    "model7.fit(x_train,y_train)"
   ]
  },
  {
   "cell_type": "code",
   "execution_count": null,
   "metadata": {
    "colab": {
     "base_uri": "https://localhost:8080/"
    },
    "id": "V9Q4oOicJbuu",
    "outputId": "674345e2-5ef9-408e-9289-fc74756a6a00"
   },
   "outputs": [],
   "source": [
    "y_predict7=model7.predict(x_test)\n",
    "y_predict7"
   ]
  },
  {
   "cell_type": "code",
   "execution_count": null,
   "metadata": {
    "colab": {
     "base_uri": "https://localhost:8080/"
    },
    "id": "vmx6h9eKJkkv",
    "outputId": "b85ac62e-a15a-42af-b85c-ffd1d8d48fe1"
   },
   "outputs": [],
   "source": [
    "y_test.values"
   ]
  },
  {
   "cell_type": "code",
   "execution_count": null,
   "metadata": {
    "colab": {
     "base_uri": "https://localhost:8080/"
    },
    "id": "Qmp1FPWTFYMi",
    "outputId": "da84daa1-7d25-4b76-95fa-d491e674c67d"
   },
   "outputs": [],
   "source": [
    "print(\"Training accuracy:\",model7.score(x_train,y_train))\n",
    "print(\"Testing accuracy:\",model7.score(x_test,y_test))"
   ]
  },
  {
   "cell_type": "code",
   "execution_count": null,
   "metadata": {
    "colab": {
     "base_uri": "https://localhost:8080/"
    },
    "id": "zTpKYJPJFd_b",
    "outputId": "4272e3bb-b2ac-4aae-abbf-8eb6c8e90333"
   },
   "outputs": [],
   "source": [
    "class_report7=classification_report(y_test,y_predict7)\n",
    "print(class_report7)"
   ]
  },
  {
   "cell_type": "code",
   "execution_count": null,
   "metadata": {},
   "outputs": [],
   "source": [
    "import pickle"
   ]
  },
  {
   "cell_type": "code",
   "execution_count": null,
   "metadata": {},
   "outputs": [],
   "source": [
    "pickle.dump(model5,open(\"model5.pkl\",\"wb\"))"
   ]
  },
  {
   "cell_type": "code",
   "execution_count": null,
   "metadata": {},
   "outputs": [],
   "source": [
    "pickle.dump(model1,open(\"model1.pkl\",\"wb\"))"
   ]
  }
 ],
 "metadata": {
  "colab": {
   "provenance": []
  },
  "kernelspec": {
   "display_name": "Python 3 (ipykernel)",
   "language": "python",
   "name": "python3"
  },
  "language_info": {
   "codemirror_mode": {
    "name": "ipython",
    "version": 3
   },
   "file_extension": ".py",
   "mimetype": "text/x-python",
   "name": "python",
   "nbconvert_exporter": "python",
   "pygments_lexer": "ipython3",
   "version": "3.11.5"
  }
 },
 "nbformat": 4,
 "nbformat_minor": 1
}
